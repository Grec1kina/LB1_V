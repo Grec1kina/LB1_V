{
 "cells": [
  {
   "cell_type": "markdown",
   "id": "fd5459aa-dc87-4c28-aed7-9095f2f45964",
   "metadata": {
    "editable": true,
    "slideshow": {
     "slide_type": ""
    },
    "tags": []
   },
   "source": [
    "Практическое задание №1\n",
    "\n",
    "**Выполнила**: Гречкина Татьяна Дмитриевна\n",
    "\n",
    "*Группа*: ИВТ-б-о-23-1\n",
    "\n",
    "Маркированный список пород кошек:\n",
    "- Британская\n",
    "- Шотландская\n",
    "- Сфинкс\n",
    "\n",
    "Нумерованный список пород собак:\n",
    "1. Мальтийская болонка\n",
    "2. Доберман\n",
    "3. Алабай\n",
    "\n",
    "Формула индивидуального задания *(в-11)*:  $p(x) = \\prod_{i=1}^{n} (x - \\alpha_i)$\n",
    "\n",
    "![печальное утро](https://i.pinimg.com/736x/08/7b/55/087b551ccac0c9459183b01e05f07c38.jpg)"
   ]
  },
  {
   "cell_type": "code",
   "execution_count": 1,
   "id": "2ea1fe7b-5f6a-4a91-a8b5-d6f53f7c0243",
   "metadata": {
    "editable": true,
    "slideshow": {
     "slide_type": ""
    },
    "tags": []
   },
   "outputs": [
    {
     "name": "stdin",
     "output_type": "stream",
     "text": [
      "Введите ваше имя:  Татьяна\n"
     ]
    },
    {
     "name": "stdout",
     "output_type": "stream",
     "text": [
      "Привет, Татьяна! Добро пожаловать в JupyterLab / Google Colab!\n"
     ]
    }
   ],
   "source": [
    "name = input(\"Введите ваше имя: \")\n",
    "print(f\"Привет, {name}! Добро пожаловать в JupyterLab / Google Colab!\")"
   ]
  },
  {
   "cell_type": "code",
   "execution_count": 2,
   "id": "397a0d0f-9150-4873-866c-8d5b0f08da7f",
   "metadata": {},
   "outputs": [
    {
     "name": "stdout",
     "output_type": "stream",
     "text": [
      "Содержимое файла:\n",
      "Задание 2.\n",
      "Работа с файлами.\n",
      "\n",
      "Файл example.txt существует\n",
      "Файл удален.\n"
     ]
    }
   ],
   "source": [
    "import os\n",
    "# 1. Создание и запись в файл\n",
    "with open(\"example.txt\", \"w\") as f:\n",
    "    f.write(\"Задание 2.\\n\")\n",
    "    f.write(\"Работа с файлами.\\n\")\n",
    "# 2. Закрытие и чтение файла\n",
    "with open(\"example.txt\", \"r\") as f:\n",
    "    content = f.read()\n",
    "    print(\"Содержимое файла:\")\n",
    "    print(content)\n",
    "# 3. Проверка существования файла\n",
    "if os.path.exists(\"example.txt\"):\n",
    "    print(\"Файл example.txt существует\")\n",
    "else:\n",
    "    print(\"Файл example.txt не существует\")\n",
    "# 4. Удаление файла\n",
    "os.remove(\"example.txt\")\n",
    "print(\"Файл удален.\")"
   ]
  },
  {
   "cell_type": "code",
   "execution_count": 3,
   "id": "229931e0-6bcc-4ef0-b0d6-4fbd5900c391",
   "metadata": {},
   "outputs": [
    {
     "data": {
      "application/json": {
       "cell": {
        "!": "OSMagics",
        "HTML": "Other",
        "SVG": "Other",
        "bash": "Other",
        "capture": "ExecutionMagics",
        "code_wrap": "ExecutionMagics",
        "debug": "ExecutionMagics",
        "file": "Other",
        "html": "DisplayMagics",
        "javascript": "DisplayMagics",
        "js": "DisplayMagics",
        "latex": "DisplayMagics",
        "markdown": "DisplayMagics",
        "perl": "Other",
        "prun": "ExecutionMagics",
        "pypy": "Other",
        "python": "Other",
        "python2": "Other",
        "python3": "Other",
        "ruby": "Other",
        "script": "ScriptMagics",
        "sh": "Other",
        "svg": "DisplayMagics",
        "sx": "OSMagics",
        "system": "OSMagics",
        "time": "ExecutionMagics",
        "timeit": "ExecutionMagics",
        "writefile": "OSMagics"
       },
       "line": {
        "alias": "OSMagics",
        "alias_magic": "BasicMagics",
        "autoawait": "AsyncMagics",
        "autocall": "AutoMagics",
        "automagic": "AutoMagics",
        "autosave": "KernelMagics",
        "bookmark": "OSMagics",
        "cat": "Other",
        "cd": "OSMagics",
        "clear": "KernelMagics",
        "code_wrap": "ExecutionMagics",
        "colors": "BasicMagics",
        "conda": "PackagingMagics",
        "config": "ConfigMagics",
        "connect_info": "KernelMagics",
        "cp": "Other",
        "debug": "ExecutionMagics",
        "dhist": "OSMagics",
        "dirs": "OSMagics",
        "doctest_mode": "BasicMagics",
        "ed": "Other",
        "edit": "KernelMagics",
        "env": "OSMagics",
        "gui": "BasicMagics",
        "hist": "Other",
        "history": "HistoryMagics",
        "killbgscripts": "ScriptMagics",
        "ldir": "Other",
        "less": "KernelMagics",
        "lf": "Other",
        "lk": "Other",
        "ll": "Other",
        "load": "CodeMagics",
        "load_ext": "ExtensionMagics",
        "loadpy": "CodeMagics",
        "logoff": "LoggingMagics",
        "logon": "LoggingMagics",
        "logstart": "LoggingMagics",
        "logstate": "LoggingMagics",
        "logstop": "LoggingMagics",
        "ls": "Other",
        "lsmagic": "BasicMagics",
        "lx": "Other",
        "macro": "ExecutionMagics",
        "magic": "BasicMagics",
        "man": "KernelMagics",
        "matplotlib": "PylabMagics",
        "mkdir": "Other",
        "more": "KernelMagics",
        "mv": "Other",
        "notebook": "BasicMagics",
        "page": "BasicMagics",
        "pastebin": "CodeMagics",
        "pdb": "ExecutionMagics",
        "pdef": "NamespaceMagics",
        "pdoc": "NamespaceMagics",
        "pfile": "NamespaceMagics",
        "pinfo": "NamespaceMagics",
        "pinfo2": "NamespaceMagics",
        "pip": "PackagingMagics",
        "popd": "OSMagics",
        "pprint": "BasicMagics",
        "precision": "BasicMagics",
        "prun": "ExecutionMagics",
        "psearch": "NamespaceMagics",
        "psource": "NamespaceMagics",
        "pushd": "OSMagics",
        "pwd": "OSMagics",
        "pycat": "OSMagics",
        "pylab": "PylabMagics",
        "qtconsole": "KernelMagics",
        "quickref": "BasicMagics",
        "recall": "HistoryMagics",
        "rehashx": "OSMagics",
        "reload_ext": "ExtensionMagics",
        "rep": "Other",
        "rerun": "HistoryMagics",
        "reset": "NamespaceMagics",
        "reset_selective": "NamespaceMagics",
        "rm": "Other",
        "rmdir": "Other",
        "run": "ExecutionMagics",
        "save": "CodeMagics",
        "sc": "OSMagics",
        "set_env": "OSMagics",
        "store": "StoreMagics",
        "sx": "OSMagics",
        "system": "OSMagics",
        "tb": "ExecutionMagics",
        "time": "ExecutionMagics",
        "timeit": "ExecutionMagics",
        "unalias": "OSMagics",
        "unload_ext": "ExtensionMagics",
        "who": "NamespaceMagics",
        "who_ls": "NamespaceMagics",
        "whos": "NamespaceMagics",
        "xdel": "NamespaceMagics",
        "xmode": "BasicMagics"
       }
      },
      "text/plain": [
       "Available line magics:\n",
       "%alias  %alias_magic  %autoawait  %autocall  %automagic  %autosave  %bookmark  %cat  %cd  %clear  %code_wrap  %colors  %conda  %config  %connect_info  %cp  %debug  %dhist  %dirs  %doctest_mode  %ed  %edit  %env  %gui  %hist  %history  %killbgscripts  %ldir  %less  %lf  %lk  %ll  %load  %load_ext  %loadpy  %logoff  %logon  %logstart  %logstate  %logstop  %ls  %lsmagic  %lx  %macro  %magic  %man  %matplotlib  %mkdir  %more  %mv  %notebook  %page  %pastebin  %pdb  %pdef  %pdoc  %pfile  %pinfo  %pinfo2  %pip  %popd  %pprint  %precision  %prun  %psearch  %psource  %pushd  %pwd  %pycat  %pylab  %qtconsole  %quickref  %recall  %rehashx  %reload_ext  %rep  %rerun  %reset  %reset_selective  %rm  %rmdir  %run  %save  %sc  %set_env  %store  %sx  %system  %tb  %time  %timeit  %unalias  %unload_ext  %who  %who_ls  %whos  %xdel  %xmode\n",
       "\n",
       "Available cell magics:\n",
       "%%!  %%HTML  %%SVG  %%bash  %%capture  %%code_wrap  %%debug  %%file  %%html  %%javascript  %%js  %%latex  %%markdown  %%perl  %%prun  %%pypy  %%python  %%python2  %%python3  %%ruby  %%script  %%sh  %%svg  %%sx  %%system  %%time  %%timeit  %%writefile\n",
       "\n",
       "Automagic is ON, % prefix IS NOT needed for line magics."
      ]
     },
     "execution_count": 3,
     "metadata": {},
     "output_type": "execute_result"
    }
   ],
   "source": [
    "%lsmagic"
   ]
  },
  {
   "cell_type": "code",
   "execution_count": 4,
   "id": "57808798-b8c8-4cf2-b984-c6985a00a5de",
   "metadata": {},
   "outputs": [
    {
     "name": "stdout",
     "output_type": "stream",
     "text": [
      "CPU times: user 20 µs, sys: 2 µs, total: 22 µs\n",
      "Wall time: 25.7 µs\n"
     ]
    },
    {
     "data": {
      "text/plain": [
       "499500"
      ]
     },
     "execution_count": 4,
     "metadata": {},
     "output_type": "execute_result"
    }
   ],
   "source": [
    "%time sum(range(1000))"
   ]
  },
  {
   "cell_type": "code",
   "execution_count": 5,
   "id": "95cdd434-0d66-47cd-9d9e-8d0349f6f98e",
   "metadata": {},
   "outputs": [
    {
     "name": "stdout",
     "output_type": "stream",
     "text": [
      "1.62 ms ± 83.1 µs per loop (mean ± std. dev. of 7 runs, 1,000 loops each)\n"
     ]
    }
   ],
   "source": [
    "%timeit sum(range(100000))"
   ]
  },
  {
   "cell_type": "code",
   "execution_count": 7,
   "id": "cb0d3fa8-1981-4936-bb18-22cc6314377a",
   "metadata": {},
   "outputs": [
    {
     "name": "stdout",
     "output_type": "stream",
     "text": [
      "Overwriting test_script.py\n"
     ]
    }
   ],
   "source": [
    "%%writefile test_script.py\n",
    "for i in range(3):\n",
    "    print(f\"Итерация {i}\")"
   ]
  },
  {
   "cell_type": "code",
   "execution_count": 8,
   "id": "641714de-8c4e-4bf1-b645-9f829ad6ede2",
   "metadata": {},
   "outputs": [
    {
     "name": "stdout",
     "output_type": "stream",
     "text": [
      "Итерация 0\n",
      "Итерация 1\n",
      "Итерация 2\n"
     ]
    }
   ],
   "source": [
    "!python test_script.py"
   ]
  },
  {
   "cell_type": "code",
   "execution_count": 9,
   "id": "ca3d872c-ad64-4e18-81ef-2d23a0042abe",
   "metadata": {},
   "outputs": [
    {
     "name": "stdout",
     "output_type": "stream",
     "text": [
      "IND.ipynb          LB1_examples.ipynb  data.csv  test_script.py\n",
      "Jupyter_Lab.ipynb  Untitled1.ipynb     test.py\n"
     ]
    }
   ],
   "source": [
    "%ls"
   ]
  },
  {
   "cell_type": "code",
   "execution_count": 10,
   "id": "38e4be46-5df0-4cca-8f12-3b7c5856883e",
   "metadata": {},
   "outputs": [
    {
     "name": "stdout",
     "output_type": "stream",
     "text": [
      "name = input(\"Введите ваше имя: \")\n",
      "print(f\"Привет, {name}! Добро пожаловать в JupyterLab / Google Colab!\")\n",
      "import os\n",
      "# 1. Создание и запись в файл\n",
      "with open(\"example.txt\", \"w\") as f:\n",
      "    f.write(\"Задание 2.\\n\")\n",
      "    f.write(\"Работа с файлами.\\n\")\n",
      "# 2. Закрытие и чтение файла\n",
      "with open(\"example.txt\", \"r\") as f:\n",
      "    content = f.read()\n",
      "    print(\"Содержимое файла:\")\n",
      "    print(content)\n",
      "# 3. Проверка существования файла\n",
      "if os.path.exists(\"example.txt\"):\n",
      "    print(\"Файл example.txt существует\")\n",
      "else:\n",
      "    print(\"Файл example.txt не существует\")\n",
      "# 4. Удаление файла\n",
      "os.remove(\"example.txt\")\n",
      "print(\"Файл удален.\")\n",
      "%lsmagic\n",
      "%time sum(range(1000))\n",
      "%timeit sum(range(100000))\n",
      "# Создание и выполнение Python-скрипта\n",
      "%%writefile test_script.py\n",
      "for i in range(3):\n",
      "    print(f\"Итерация {i}\")\n",
      "%%writefile test_script.py\n",
      "for i in range(3):\n",
      "    print(f\"Итерация {i}\")\n",
      "!python test_script.py\n",
      "%ls\n",
      "%history\n"
     ]
    }
   ],
   "source": [
    "%history"
   ]
  },
  {
   "cell_type": "code",
   "execution_count": 11,
   "id": "594a1d2a-d1aa-4469-991b-8982e33210dc",
   "metadata": {},
   "outputs": [
    {
     "name": "stdout",
     "output_type": "stream",
     "text": [
      "IND.ipynb\t   LB1_examples.ipynb  data.csv  test_script.py\n",
      "Jupyter_Lab.ipynb  Untitled1.ipynb     test.py\n"
     ]
    }
   ],
   "source": [
    "!ls"
   ]
  },
  {
   "cell_type": "code",
   "execution_count": 12,
   "id": "741b9124-a355-475c-bfa6-4c008c4db5dd",
   "metadata": {},
   "outputs": [
    {
     "name": "stdout",
     "output_type": "stream",
     "text": [
      "/opt/conda/envs/anaconda-panel-2023.05-py310/bin/python\n"
     ]
    }
   ],
   "source": [
    "!which python"
   ]
  },
  {
   "cell_type": "code",
   "execution_count": 13,
   "id": "f4578fa6-3690-49d4-9062-c8218c8f4c68",
   "metadata": {},
   "outputs": [],
   "source": [
    "!mkdir test_folder"
   ]
  },
  {
   "cell_type": "code",
   "execution_count": 14,
   "id": "4a97b05f-d94b-4194-bf37-41b472eb704b",
   "metadata": {},
   "outputs": [
    {
     "name": "stdout",
     "output_type": "stream",
     "text": [
      "IND.ipynb\t   LB1_examples.ipynb  data.csv  test_folder\n",
      "Jupyter_Lab.ipynb  Untitled1.ipynb     test.py\t test_script.py\n"
     ]
    }
   ],
   "source": [
    "!ls"
   ]
  },
  {
   "cell_type": "code",
   "execution_count": 15,
   "id": "c8ef1dc7-908f-4707-9617-b464b154bae2",
   "metadata": {},
   "outputs": [
    {
     "name": "stdout",
     "output_type": "stream",
     "text": [
      "Writing temp_file.txt\n"
     ]
    }
   ],
   "source": [
    "%%writefile temp_file.txt\n",
    "Временный файл"
   ]
  },
  {
   "cell_type": "code",
   "execution_count": 16,
   "id": "e8d1299f-113f-4394-89cd-c1f62a832ae1",
   "metadata": {},
   "outputs": [],
   "source": [
    "!mv temp_file.txt test_folder/"
   ]
  },
  {
   "cell_type": "code",
   "execution_count": 17,
   "id": "92c2d33f-82c1-42ac-8ab6-6a79b131b475",
   "metadata": {},
   "outputs": [
    {
     "name": "stdout",
     "output_type": "stream",
     "text": [
      "temp_file.txt\n"
     ]
    }
   ],
   "source": [
    "!ls test_folder/"
   ]
  },
  {
   "cell_type": "code",
   "execution_count": 18,
   "id": "f73f449a-fa6a-465f-87af-62014a87c84b",
   "metadata": {},
   "outputs": [],
   "source": [
    "!rm test_folder/temp_file.txt"
   ]
  },
  {
   "cell_type": "code",
   "execution_count": 19,
   "id": "0e9be202-fec4-4f21-80e9-5c8776376022",
   "metadata": {},
   "outputs": [],
   "source": [
    "!ls test_folder/"
   ]
  },
  {
   "cell_type": "code",
   "execution_count": 20,
   "id": "264bd3fd-3f94-4c96-8300-54c24814df3f",
   "metadata": {},
   "outputs": [],
   "source": [
    "!rmdir test_folder"
   ]
  },
  {
   "cell_type": "code",
   "execution_count": 21,
   "id": "7debd389-2fbb-427a-88cf-7afac1aa0248",
   "metadata": {},
   "outputs": [
    {
     "name": "stdout",
     "output_type": "stream",
     "text": [
      "IND.ipynb\t   LB1_examples.ipynb  data.csv  test_script.py\n",
      "Jupyter_Lab.ipynb  Untitled1.ipynb     test.py\n"
     ]
    }
   ],
   "source": [
    "!ls"
   ]
  },
  {
   "cell_type": "code",
   "execution_count": 22,
   "id": "6b53fcd3-3ae4-4e23-8db7-8748710b47cd",
   "metadata": {},
   "outputs": [],
   "source": [
    "# get_ipython().system('clear')"
   ]
  },
  {
   "cell_type": "code",
   "execution_count": null,
   "id": "4729a447-78c5-4bd9-a204-a51b964ba061",
   "metadata": {},
   "outputs": [],
   "source": []
  }
 ],
 "metadata": {
  "kernelspec": {
   "display_name": "anaconda-panel-2023.05-py310",
   "language": "python",
   "name": "conda-env-anaconda-panel-2023.05-py310-py"
  },
  "language_info": {
   "codemirror_mode": {
    "name": "ipython",
    "version": 3
   },
   "file_extension": ".py",
   "mimetype": "text/x-python",
   "name": "python",
   "nbconvert_exporter": "python",
   "pygments_lexer": "ipython3",
   "version": "3.11.5"
  }
 },
 "nbformat": 4,
 "nbformat_minor": 5
}
