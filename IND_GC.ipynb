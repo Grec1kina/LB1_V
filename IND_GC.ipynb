{
  "nbformat": 4,
  "nbformat_minor": 0,
  "metadata": {
    "colab": {
      "provenance": []
    },
    "kernelspec": {
      "name": "python3",
      "display_name": "Python 3"
    },
    "language_info": {
      "name": "python"
    }
  },
  "cells": [
    {
      "cell_type": "code",
      "execution_count": 1,
      "metadata": {
        "colab": {
          "base_uri": "https://localhost:8080/"
        },
        "id": "IwBafaa6Gg4a",
        "outputId": "b60d6642-970a-42c7-c6fe-a11984ae88c3"
      },
      "outputs": [
        {
          "output_type": "stream",
          "name": "stdout",
          "text": [
            "Mounted at /content/drive\n"
          ]
        }
      ],
      "source": [
        "from google.colab import drive\n",
        "drive.mount('/content/drive')"
      ]
    },
    {
      "cell_type": "code",
      "source": [
        "!ls /content/drive/MyDrive"
      ],
      "metadata": {
        "colab": {
          "base_uri": "https://localhost:8080/"
        },
        "id": "v5ag_Bz5GxRU",
        "outputId": "b2d4e210-9c50-4da6-f740-32030bf1ad22"
      },
      "execution_count": 2,
      "outputs": [
        {
          "output_type": "stream",
          "name": "stdout",
          "text": [
            "'Colab Notebooks'\n"
          ]
        }
      ]
    },
    {
      "cell_type": "code",
      "source": [
        "file_path = \"/content/drive/MyDrive/my_text_file.txt\"\n",
        "with open(file_path, \"w\") as f:\n",
        "  f.write(\"Последнее задание для выполнения в Google Colab.\\n\")\n",
        "  f.write(\"Запись текста в созданный файл.\")\n",
        "print(\"Файл успешно сохранен в Google Drive.\")"
      ],
      "metadata": {
        "colab": {
          "base_uri": "https://localhost:8080/"
        },
        "id": "8cPf4Oa_G-qq",
        "outputId": "b5b2e917-d25a-4081-85a7-2f67b1d8975e"
      },
      "execution_count": 6,
      "outputs": [
        {
          "output_type": "stream",
          "name": "stdout",
          "text": [
            "Файл успешно сохранен в Google Drive.\n"
          ]
        }
      ]
    },
    {
      "cell_type": "code",
      "source": [
        "!ls /content/drive/MyDrive"
      ],
      "metadata": {
        "colab": {
          "base_uri": "https://localhost:8080/"
        },
        "id": "GocZQ4i3Ht_1",
        "outputId": "848e18a9-fd75-4785-c021-e4c01427cd57"
      },
      "execution_count": 4,
      "outputs": [
        {
          "output_type": "stream",
          "name": "stdout",
          "text": [
            "'Colab Notebooks'   my_text_file.txt\n"
          ]
        }
      ]
    },
    {
      "cell_type": "code",
      "source": [
        "# CSV\n",
        "practika = [\n",
        "    [\"PR1\", 32, \"Notebooks\"],\n",
        "    [\"PR2\", 68, \"NumPy\"],\n",
        "    [\"PR3\", 88, \"matplotlib\"]\n",
        "]"
      ],
      "metadata": {
        "id": "S_R5oUVPH3jz"
      },
      "execution_count": 5,
      "outputs": []
    },
    {
      "cell_type": "code",
      "source": [
        "csv_path = \"/content/drive/MyDrive/practika.csv\"\n",
        "with open(csv_path, \"w\") as f:\n",
        "  for practika in practika:\n",
        "    f.write(\",\".join(map(str, practika)) + \"\\n\")\n",
        "print(\"Файл students.csv успешно сохранен в Google Drive.\")"
      ],
      "metadata": {
        "colab": {
          "base_uri": "https://localhost:8080/"
        },
        "id": "x51pKG08J6W1",
        "outputId": "5855c754-f027-4ab1-d393-f4bd94f50e8a"
      },
      "execution_count": 7,
      "outputs": [
        {
          "output_type": "stream",
          "name": "stdout",
          "text": [
            "Файл students.csv успешно сохранен в Google Drive.\n"
          ]
        }
      ]
    },
    {
      "cell_type": "code",
      "source": [
        "!ls /content/drive/MyDrive"
      ],
      "metadata": {
        "colab": {
          "base_uri": "https://localhost:8080/"
        },
        "id": "Wqsln3qRKXzw",
        "outputId": "38053127-c633-4fd2-9ff8-bf18a9b75358"
      },
      "execution_count": 8,
      "outputs": [
        {
          "output_type": "stream",
          "name": "stdout",
          "text": [
            "'Colab Notebooks'   my_text_file.txt   practika.csv\n"
          ]
        }
      ]
    }
  ]
}